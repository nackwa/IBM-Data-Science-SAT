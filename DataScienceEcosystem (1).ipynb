{
 "cells": [
  {
   "cell_type": "markdown",
   "id": "1075af87",
   "metadata": {},
   "source": [
    "# Data Science Tools and Ecosystem\n",
    "\n",
    "\n",
    "### Introduction  \n",
    "### *Data science tools and ecosystem plays a major role in becoming a data scientist.* \n",
    "\n",
    "### Objectives: \n",
    "The objectibes of this notebook are as follows:\n",
    "- **To be able to list popular languages used in data science**\n",
    "- **To look at data science libraries**\n",
    "- **To look into tools used in data science**\n",
    "- **and an introduction to arithmetic expressions**\n",
    "\n",
    "#### Popular Languages used in Data Science     \n",
    "  \n",
    "Data scientists use a variety of programming languages to perform tasks such as data manipulation, analysis, and machine learning. Here are some of the top languages commonly used by data scientists:\n",
    "\n",
    "- **Python**\n",
    "- **R**\n",
    "- **SQL**\n",
    "- **Julia**\n",
    "- **Scala**\n",
    "\n",
    "#### Data Science Libraries\n",
    "\n",
    "Data scientists have access to a wide range of libraries and frameworks that simplify various tasks in data manipulation, analysis, and machine learning. Here are some popular libraries used in the field of data science:\n",
    "\n",
    "- **NumPy**\n",
    "- **Pandas**\n",
    "- **Matplotlib** \n",
    "- **Seaborn**\n",
    "- **Scikit-learn**\n",
    "- **TensorFlow**\n",
    "- **Keras**\n",
    "- **PyTorch**\n",
    "- **SciPy**\n",
    "- **Statsmodels**\n",
    "\n",
    "Data science tools encompass a wide range of software and libraries that enable data scientists to extract insights, analyze data, build predictive models, and visualize results, empowering them to make data-driven decisions and solve complex problems.\n",
    "\n",
    "#### Data Science Tools\n",
    "\n",
    "| Data Science Tools |\n",
    "|:-------------------|\n",
    "| Jupyter Notebook   |\n",
    "| RStudio            |\n",
    "| Visual Studio Code |\n",
    "\n",
    "### Introduction to Arithmetic Expression\n",
    "Arithmetic expressions are fundamental in mathematics and programming, allowing us to perform mathematical calculations. In Jupyter Notebook, you can easily write and evaluate arithmetic expressions using code cells. Here are some examples of arithmetic expressions:\n",
    "\n",
    "\n",
    "##### 1. Addition: Adding two numbers together.  \n",
    "    3 + 4  \n",
    "    Result: 7\n",
    "\n",
    "##### 2. Subtraction: Subtracting one number from another.  \n",
    "    10 - 5  \n",
    "    Result: 5\n",
    "    \n",
    "##### 3. Multiplication: Multiplying two numbers.  \n",
    "    6 * 8  \n",
    "    Result: 48\n",
    "\n",
    "##### 4. Division: Dividing one number by another.  \n",
    "    20 / 4  \n",
    "    Result: 5\n",
    "\n",
    "##### 5. Exponentiation: Raising a number to a power.  \n",
    "    2 ** 3  \n",
    "    Result: 8\n",
    "\n",
    "##### 6. Modulo: Finding the remainder of a division operation.  \n",
    "   15 % 4  \n",
    "   Result: 3\n",
    "   \n",
    "\n",
    "#### Order of Operations - When given an exprsssion as the one below, first you should multiply then add.\n"
   ]
  },
  {
   "cell_type": "code",
   "execution_count": 4,
   "id": "4acbbcbc",
   "metadata": {},
   "outputs": [
    {
     "name": "stdout",
     "output_type": "stream",
     "text": [
      "17\n"
     ]
    }
   ],
   "source": [
    "result = (3 * 4) + 5  \n",
    "print (result)"
   ]
  },
  {
   "cell_type": "markdown",
   "id": "6698fab6",
   "metadata": {},
   "source": [
    "#### Convert Minutes to Hours  - Please see the Expression below for turning hours into minutes"
   ]
  },
  {
   "cell_type": "code",
   "execution_count": 2,
   "id": "c8f99487",
   "metadata": {},
   "outputs": [
    {
     "name": "stdout",
     "output_type": "stream",
     "text": [
      "3.3333333333333335\n"
     ]
    }
   ],
   "source": [
    "minutes = 200  \n",
    "hours = minutes / 60  \n",
    "print (hours)"
   ]
  },
  {
   "cell_type": "markdown",
   "id": "a0089d7a",
   "metadata": {},
   "source": [
    "## Author:   \n",
    "Shorna Thompson"
   ]
  }
 ],
 "metadata": {
  "kernelspec": {
   "display_name": "Python 3 (ipykernel)",
   "language": "python",
   "name": "python3"
  },
  "language_info": {
   "codemirror_mode": {
    "name": "ipython",
    "version": 3
   },
   "file_extension": ".py",
   "mimetype": "text/x-python",
   "name": "python",
   "nbconvert_exporter": "python",
   "pygments_lexer": "ipython3",
   "version": "3.10.9"
  }
 },
 "nbformat": 4,
 "nbformat_minor": 5
}
